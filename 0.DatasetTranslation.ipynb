{
 "cells": [
  {
   "cell_type": "code",
   "execution_count": 7,
   "id": "1205b73e-fd2c-470d-ac01-6bb50ee937c7",
   "metadata": {},
   "outputs": [
    {
     "name": "stderr",
     "output_type": "stream",
     "text": [
      "huggingface/tokenizers: The current process just got forked, after parallelism has already been used. Disabling parallelism to avoid deadlocks...\n",
      "To disable this warning, you can either:\n",
      "\t- Avoid using `tokenizers` before the fork if possible\n",
      "\t- Explicitly set the environment variable TOKENIZERS_PARALLELISM=(true | false)\n"
     ]
    },
    {
     "name": "stdout",
     "output_type": "stream",
     "text": [
      "\u001b[33mWARNING: Running pip as the 'root' user can result in broken permissions and conflicting behaviour with the system package manager, possibly rendering your system unusable. It is recommended to use a virtual environment instead: https://pip.pypa.io/warnings/venv. Use the --root-user-action option if you know what you are doing and want to suppress this warning.\u001b[0m\u001b[33m\n",
      "\u001b[0m"
     ]
    }
   ],
   "source": [
    "!pip install -q transformers pandas torch\n"
   ]
  },
  {
   "cell_type": "code",
   "execution_count": 8,
   "id": "ec609d1f-5366-4c0d-8c5d-c336adc478c9",
   "metadata": {},
   "outputs": [],
   "source": [
    "import pandas as pd\n",
    "from transformers import M2M100ForConditionalGeneration, M2M100Tokenizer\n",
    "from tqdm import tqdm\n",
    "import torch\n"
   ]
  },
  {
   "cell_type": "code",
   "execution_count": 9,
   "id": "1c6f42f3-5822-4894-9298-af23d755ac43",
   "metadata": {},
   "outputs": [],
   "source": [
    "model_path = \"gopi30/english-to-tamil-stage1\"\n",
    "\n",
    "model = M2M100ForConditionalGeneration.from_pretrained(model_path).to(\"cuda\")  # use \"cpu\" if no GPU\n",
    "tokenizer = M2M100Tokenizer.from_pretrained(model_path)\n"
   ]
  },
  {
   "cell_type": "code",
   "execution_count": 10,
   "id": "e2933ab8-12b7-478c-8717-bbffef402f8c",
   "metadata": {},
   "outputs": [],
   "source": [
    "def translate_en_to_ta(text):\n",
    "    tokenizer.src_lang = \"en\"\n",
    "    encoded = tokenizer(text, return_tensors=\"pt\", truncation=True, max_length=512).to(\"cuda\")\n",
    "    generated = model.generate(**encoded, forced_bos_token_id=tokenizer.get_lang_id(\"ta\"), max_length=512)\n",
    "    return tokenizer.decode(generated[0], skip_special_tokens=True)\n"
   ]
  },
  {
   "cell_type": "code",
   "execution_count": 11,
   "id": "3f11cbcf-7688-4ab9-925c-94976bf329f9",
   "metadata": {},
   "outputs": [],
   "source": [
    "def batch_translate(text_list):\n",
    "    translated_texts = []\n",
    "    for text in tqdm(text_list):\n",
    "        if isinstance(text, str) and text.strip():\n",
    "            translated_texts.append(translate_en_to_ta(text.strip()))\n",
    "        else:\n",
    "            translated_texts.append(\"\")\n",
    "    return translated_texts\n"
   ]
  },
  {
   "cell_type": "code",
   "execution_count": 12,
   "id": "1fee605c-4333-4435-b1b6-ba708c6b2219",
   "metadata": {},
   "outputs": [
    {
     "data": {
      "text/html": [
       "<div>\n",
       "<style scoped>\n",
       "    .dataframe tbody tr th:only-of-type {\n",
       "        vertical-align: middle;\n",
       "    }\n",
       "\n",
       "    .dataframe tbody tr th {\n",
       "        vertical-align: top;\n",
       "    }\n",
       "\n",
       "    .dataframe thead th {\n",
       "        text-align: right;\n",
       "    }\n",
       "</style>\n",
       "<table border=\"1\" class=\"dataframe\">\n",
       "  <thead>\n",
       "    <tr style=\"text-align: right;\">\n",
       "      <th></th>\n",
       "      <th>question</th>\n",
       "      <th>answer</th>\n",
       "      <th>source</th>\n",
       "      <th>focus_area</th>\n",
       "    </tr>\n",
       "  </thead>\n",
       "  <tbody>\n",
       "    <tr>\n",
       "      <th>0</th>\n",
       "      <td>What is (are) Glaucoma ?</td>\n",
       "      <td>Glaucoma is a group of diseases that can damag...</td>\n",
       "      <td>NIHSeniorHealth</td>\n",
       "      <td>Glaucoma</td>\n",
       "    </tr>\n",
       "    <tr>\n",
       "      <th>1</th>\n",
       "      <td>What causes Glaucoma ?</td>\n",
       "      <td>Nearly 2.7 million people have glaucoma, a lea...</td>\n",
       "      <td>NIHSeniorHealth</td>\n",
       "      <td>Glaucoma</td>\n",
       "    </tr>\n",
       "    <tr>\n",
       "      <th>2</th>\n",
       "      <td>What are the symptoms of Glaucoma ?</td>\n",
       "      <td>Symptoms of Glaucoma  Glaucoma can develop in ...</td>\n",
       "      <td>NIHSeniorHealth</td>\n",
       "      <td>Glaucoma</td>\n",
       "    </tr>\n",
       "    <tr>\n",
       "      <th>3</th>\n",
       "      <td>What are the treatments for Glaucoma ?</td>\n",
       "      <td>Although open-angle glaucoma cannot be cured, ...</td>\n",
       "      <td>NIHSeniorHealth</td>\n",
       "      <td>Glaucoma</td>\n",
       "    </tr>\n",
       "    <tr>\n",
       "      <th>4</th>\n",
       "      <td>What is (are) Glaucoma ?</td>\n",
       "      <td>Glaucoma is a group of diseases that can damag...</td>\n",
       "      <td>NIHSeniorHealth</td>\n",
       "      <td>Glaucoma</td>\n",
       "    </tr>\n",
       "  </tbody>\n",
       "</table>\n",
       "</div>"
      ],
      "text/plain": [
       "                                 question  \\\n",
       "0                What is (are) Glaucoma ?   \n",
       "1                  What causes Glaucoma ?   \n",
       "2     What are the symptoms of Glaucoma ?   \n",
       "3  What are the treatments for Glaucoma ?   \n",
       "4                What is (are) Glaucoma ?   \n",
       "\n",
       "                                              answer           source  \\\n",
       "0  Glaucoma is a group of diseases that can damag...  NIHSeniorHealth   \n",
       "1  Nearly 2.7 million people have glaucoma, a lea...  NIHSeniorHealth   \n",
       "2  Symptoms of Glaucoma  Glaucoma can develop in ...  NIHSeniorHealth   \n",
       "3  Although open-angle glaucoma cannot be cured, ...  NIHSeniorHealth   \n",
       "4  Glaucoma is a group of diseases that can damag...  NIHSeniorHealth   \n",
       "\n",
       "  focus_area  \n",
       "0   Glaucoma  \n",
       "1   Glaucoma  \n",
       "2   Glaucoma  \n",
       "3   Glaucoma  \n",
       "4   Glaucoma  "
      ]
     },
     "execution_count": 12,
     "metadata": {},
     "output_type": "execute_result"
    }
   ],
   "source": [
    "df = pd.read_csv(\"medquad.csv\")  # replace with your path if different\n",
    "df['question'] = df['question'].fillna(\"\")\n",
    "df['answer'] = df['answer'].fillna(\"\")\n",
    "df.head()\n"
   ]
  },
  {
   "cell_type": "code",
   "execution_count": 13,
   "id": "601fc6d7-636d-4088-97c9-f76c265e0140",
   "metadata": {},
   "outputs": [
    {
     "name": "stderr",
     "output_type": "stream",
     "text": [
      "100%|████████████████████████████████████████████████████████████████████████████████████████████████████████████████████████████████████████████████| 16412/16412 [1:10:36<00:00,  3.87it/s]\n"
     ]
    }
   ],
   "source": [
    "questions_tamil = batch_translate(df['question'].tolist())\n"
   ]
  },
  {
   "cell_type": "code",
   "execution_count": 15,
   "id": "943958a3-cf78-4bad-9391-5950692fdc45",
   "metadata": {},
   "outputs": [
    {
     "name": "stderr",
     "output_type": "stream",
     "text": [
      "100%|████████████████████████████████████████████████████████████████████████████████████████████████████████████████████████████████████████████████| 16412/16412 [5:37:02<00:00,  1.23s/it]\n"
     ]
    }
   ],
   "source": [
    "answers_tamil = batch_translate(df['answer'].tolist())"
   ]
  },
  {
   "cell_type": "code",
   "execution_count": 16,
   "id": "ab3cc000-3074-46d0-b30f-f716e2386efc",
   "metadata": {},
   "outputs": [
    {
     "data": {
      "text/html": [
       "<div>\n",
       "<style scoped>\n",
       "    .dataframe tbody tr th:only-of-type {\n",
       "        vertical-align: middle;\n",
       "    }\n",
       "\n",
       "    .dataframe tbody tr th {\n",
       "        vertical-align: top;\n",
       "    }\n",
       "\n",
       "    .dataframe thead th {\n",
       "        text-align: right;\n",
       "    }\n",
       "</style>\n",
       "<table border=\"1\" class=\"dataframe\">\n",
       "  <thead>\n",
       "    <tr style=\"text-align: right;\">\n",
       "      <th></th>\n",
       "      <th>question_tamil</th>\n",
       "      <th>answer_tamil</th>\n",
       "    </tr>\n",
       "  </thead>\n",
       "  <tbody>\n",
       "    <tr>\n",
       "      <th>0</th>\n",
       "      <td>(அது) க்ளவுகோமா என்ன?</td>\n",
       "      <td>ஆனால் க்ளூகோமியா என்பது கண் நரம்பின் பார்வைக்க...</td>\n",
       "    </tr>\n",
       "    <tr>\n",
       "      <th>1</th>\n",
       "      <td>குளோகோமைக்கு என்ன காரணம்?</td>\n",
       "      <td>இதில், 40 வயதுக்கும் மேற்பட்ட ஆபிரிக்க அமெரிக்...</td>\n",
       "    </tr>\n",
       "    <tr>\n",
       "      <th>2</th>\n",
       "      <td>க்ளவுகோமாவின் அறிகுறிகள் என்ன?</td>\n",
       "      <td>சிகிச்சை இல்லாமல், சிகிச்சை இல்லாமல், சிகிச்சை...</td>\n",
       "    </tr>\n",
       "    <tr>\n",
       "      <th>3</th>\n",
       "      <td>க்ளவுகோமாவுக்கு என்ன சிகிச்சைகள்?</td>\n",
       "      <td>க்ளாகோமியாவைப் பற்றிய ஆய்வுகள் மற்றும் அறுவைச்...</td>\n",
       "    </tr>\n",
       "    <tr>\n",
       "      <th>4</th>\n",
       "      <td>(அது) க்ளவுகோமா என்ன?</td>\n",
       "      <td>க்ளவுகோமம் என்பது கண் நரம்பின் ஆப்டிக் நரம்பை ...</td>\n",
       "    </tr>\n",
       "  </tbody>\n",
       "</table>\n",
       "</div>"
      ],
      "text/plain": [
       "                      question_tamil  \\\n",
       "0              (அது) க்ளவுகோமா என்ன?   \n",
       "1          குளோகோமைக்கு என்ன காரணம்?   \n",
       "2     க்ளவுகோமாவின் அறிகுறிகள் என்ன?   \n",
       "3  க்ளவுகோமாவுக்கு என்ன சிகிச்சைகள்?   \n",
       "4              (அது) க்ளவுகோமா என்ன?   \n",
       "\n",
       "                                        answer_tamil  \n",
       "0  ஆனால் க்ளூகோமியா என்பது கண் நரம்பின் பார்வைக்க...  \n",
       "1  இதில், 40 வயதுக்கும் மேற்பட்ட ஆபிரிக்க அமெரிக்...  \n",
       "2  சிகிச்சை இல்லாமல், சிகிச்சை இல்லாமல், சிகிச்சை...  \n",
       "3  க்ளாகோமியாவைப் பற்றிய ஆய்வுகள் மற்றும் அறுவைச்...  \n",
       "4  க்ளவுகோமம் என்பது கண் நரம்பின் ஆப்டிக் நரம்பை ...  "
      ]
     },
     "execution_count": 16,
     "metadata": {},
     "output_type": "execute_result"
    }
   ],
   "source": [
    "translated_df = pd.DataFrame({\n",
    "    'question_tamil': questions_tamil,\n",
    "    'answer_tamil': answers_tamil\n",
    "})\n",
    "\n",
    "translated_df.head()\n"
   ]
  },
  {
   "cell_type": "code",
   "execution_count": 17,
   "id": "1486c9c0-dc66-4f23-8956-7a540dba390c",
   "metadata": {},
   "outputs": [],
   "source": [
    "translated_df.to_csv(\"medquad_tamil.csv\", index=False)\n"
   ]
  }
 ],
 "metadata": {
  "kernelspec": {
   "display_name": "Python 3 (ipykernel)",
   "language": "python",
   "name": "python3"
  },
  "language_info": {
   "codemirror_mode": {
    "name": "ipython",
    "version": 3
   },
   "file_extension": ".py",
   "mimetype": "text/x-python",
   "name": "python",
   "nbconvert_exporter": "python",
   "pygments_lexer": "ipython3",
   "version": "3.10.12"
  }
 },
 "nbformat": 4,
 "nbformat_minor": 5
}
