{
 "cells": [
  {
   "cell_type": "code",
   "execution_count": 1,
   "id": "7428c325-5ebe-4437-b11c-e2dedb256b0b",
   "metadata": {},
   "outputs": [],
   "source": [
    "# Install only if needed\n",
    "# !pip install pandas -q\n",
    "\n",
    "import pandas as pd\n"
   ]
  },
  {
   "cell_type": "code",
   "execution_count": 2,
   "id": "5d22f8c2-bc04-4796-99eb-49685f5f6ed5",
   "metadata": {},
   "outputs": [],
   "source": [
    "# Load saved BERTScore results\n",
    "llama_ft = pd.read_csv(\"tamil_bertscore_results.csv\")\n",
    "llama_base = pd.read_csv(\"not_tamil_bertscore_results.csv\")\n",
    "gemma_ft = pd.read_csv(\"tamil_bertscore.csv\")\n",
    "gemma_base = pd.read_csv(\"nt_tamil_bertscore.csv\")\n"
   ]
  },
  {
   "cell_type": "code",
   "execution_count": 3,
   "id": "c466d215-5ea8-4436-8262-1447bb251f96",
   "metadata": {},
   "outputs": [],
   "source": [
    "def average_bertscore(df):\n",
    "    return {\n",
    "        \"Precision\": round(df[\"Precision\"].mean(), 4),\n",
    "        \"Recall\": round(df[\"Recall\"].mean(), 4),\n",
    "        \"F1 Score\": round(df[\"F1 Score\"].mean(), 4)\n",
    "    }\n",
    "\n",
    "comparison_data = [\n",
    "    {\n",
    "        \"Model\": \"Tamil-LLaMA\",\n",
    "        \"Finetuned\": \"Yes\",\n",
    "        **average_bertscore(llama_ft)\n",
    "    },\n",
    "    {\n",
    "        \"Model\": \"Tamil-LLaMA\",\n",
    "        \"Finetuned\": \"No\",\n",
    "        **average_bertscore(llama_base)\n",
    "    },\n",
    "    {\n",
    "        \"Model\": \"Tamil-Gemma\",\n",
    "        \"Finetuned\": \"Yes\",\n",
    "        **average_bertscore(gemma_ft)\n",
    "    },\n",
    "    {\n",
    "        \"Model\": \"Tamil-Gemma\",\n",
    "        \"Finetuned\": \"No\",\n",
    "        **average_bertscore(gemma_base)\n",
    "    },\n",
    "]\n",
    "\n",
    "comparison_df = pd.DataFrame(comparison_data)\n"
   ]
  },
  {
   "cell_type": "code",
   "execution_count": 4,
   "id": "cee2ec02-97a7-4549-a293-fcf62d2bb23b",
   "metadata": {},
   "outputs": [
    {
     "name": "stdout",
     "output_type": "stream",
     "text": [
      "✅ Comparison Table:\n"
     ]
    },
    {
     "data": {
      "text/html": [
       "<div>\n",
       "<style scoped>\n",
       "    .dataframe tbody tr th:only-of-type {\n",
       "        vertical-align: middle;\n",
       "    }\n",
       "\n",
       "    .dataframe tbody tr th {\n",
       "        vertical-align: top;\n",
       "    }\n",
       "\n",
       "    .dataframe thead th {\n",
       "        text-align: right;\n",
       "    }\n",
       "</style>\n",
       "<table border=\"1\" class=\"dataframe\">\n",
       "  <thead>\n",
       "    <tr style=\"text-align: right;\">\n",
       "      <th></th>\n",
       "      <th>Model</th>\n",
       "      <th>Finetuned</th>\n",
       "      <th>Precision</th>\n",
       "      <th>Recall</th>\n",
       "      <th>F1 Score</th>\n",
       "    </tr>\n",
       "  </thead>\n",
       "  <tbody>\n",
       "    <tr>\n",
       "      <th>0</th>\n",
       "      <td>Tamil-LLaMA</td>\n",
       "      <td>Yes</td>\n",
       "      <td>0.6590</td>\n",
       "      <td>0.6487</td>\n",
       "      <td>0.6528</td>\n",
       "    </tr>\n",
       "    <tr>\n",
       "      <th>1</th>\n",
       "      <td>Tamil-LLaMA</td>\n",
       "      <td>No</td>\n",
       "      <td>0.6018</td>\n",
       "      <td>0.6386</td>\n",
       "      <td>0.6177</td>\n",
       "    </tr>\n",
       "    <tr>\n",
       "      <th>2</th>\n",
       "      <td>Tamil-Gemma</td>\n",
       "      <td>Yes</td>\n",
       "      <td>0.6616</td>\n",
       "      <td>0.6493</td>\n",
       "      <td>0.6543</td>\n",
       "    </tr>\n",
       "    <tr>\n",
       "      <th>3</th>\n",
       "      <td>Tamil-Gemma</td>\n",
       "      <td>No</td>\n",
       "      <td>0.5992</td>\n",
       "      <td>0.6276</td>\n",
       "      <td>0.6110</td>\n",
       "    </tr>\n",
       "  </tbody>\n",
       "</table>\n",
       "</div>"
      ],
      "text/plain": [
       "         Model Finetuned  Precision  Recall  F1 Score\n",
       "0  Tamil-LLaMA       Yes     0.6590  0.6487    0.6528\n",
       "1  Tamil-LLaMA        No     0.6018  0.6386    0.6177\n",
       "2  Tamil-Gemma       Yes     0.6616  0.6493    0.6543\n",
       "3  Tamil-Gemma        No     0.5992  0.6276    0.6110"
      ]
     },
     "metadata": {},
     "output_type": "display_data"
    }
   ],
   "source": [
    "# Show table\n",
    "print(\"✅ Comparison Table:\")\n",
    "display(comparison_df)\n",
    "\n",
    "# Optional: Save it\n",
    "comparison_df.to_csv(\"tamil_llm_bertscore_comparison.csv\", index=False)\n"
   ]
  }
 ],
 "metadata": {
  "kernelspec": {
   "display_name": "Python 3 (ipykernel)",
   "language": "python",
   "name": "python3"
  },
  "language_info": {
   "codemirror_mode": {
    "name": "ipython",
    "version": 3
   },
   "file_extension": ".py",
   "mimetype": "text/x-python",
   "name": "python",
   "nbconvert_exporter": "python",
   "pygments_lexer": "ipython3",
   "version": "3.10.12"
  }
 },
 "nbformat": 4,
 "nbformat_minor": 5
}
